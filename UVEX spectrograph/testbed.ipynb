{
 "cells": [
  {
   "cell_type": "code",
   "execution_count": 62,
   "id": "dynamic-feedback",
   "metadata": {},
   "outputs": [],
   "source": [
    "import numpy as np, pandas as pd\n",
    "from pprint import pprint\n",
    "from matplotlib import pyplot as plt\n",
    "from skimage import color, transform, io\n",
    "from scipy import interpolate, optimize\n",
    "from image_utils import crop_array, img_fold, pixel_coords_on_line"
   ]
  },
  {
   "cell_type": "code",
   "execution_count": 2,
   "id": "operating-necessity",
   "metadata": {},
   "outputs": [],
   "source": [
    "XYZ_wl = pd.read_table(\"./color_matching_functions.txt\",delimiter=\" \",header=0)\n",
    "\n",
    "def rho(band,wl):\n",
    "    vectors = {'r': [0.021592459, 0.020293111, 0.021807906, 0.023803297, 0.025208132, 0.025414957, 0.024621282, 0.020973705, 0.015752802, 0.01116804, 0.008578277, 0.006581877, 0.005171723, 0.004545205, 0.00414512, 0.004343112, 0.005238155, 0.007251939, 0.012543656, 0.028067132, 0.091342277, 0.484081092, 0.870378324, 0.939513128, 0.960926994, 0.968623763, 0.971263883, 0.972285819, 0.971898742, 0.972691859, 0.971734812, 0.97234454, 0.97150339, 0.970857997, 0.970553866, 0.969671404],\n",
    "               'g': [0.010542406, 0.010878976, 0.011063512, 0.010736566, 0.011681813, 0.012434719, 0.014986907, 0.020100392, 0.030356263, 0.063388962, 0.173423837, 0.568321142, 0.827791998, 0.916560468, 0.952002841, 0.964096452, 0.970590861, 0.972502542, 0.969148203, 0.955344651, 0.892637233, 0.5003641, 0.116236717, 0.047951391, 0.027873526, 0.020057963, 0.017382174, 0.015429109, 0.01543808, 0.014546826, 0.015197773, 0.014285896, 0.015069123, 0.015506263, 0.015545797, 0.016302839],\n",
    "               'b': [0.967865135, 0.968827912, 0.967128582, 0.965460137, 0.963110055, 0.962150324, 0.960391811, 0.958925903, 0.953890935, 0.925442998, 0.817997886, 0.42509696, 0.167036273, 0.078894327, 0.043852038, 0.031560435, 0.024170984, 0.020245519, 0.01830814, 0.016588218, 0.01602049, 0.015554808, 0.013384959, 0.012535491, 0.011199484, 0.011318274, 0.011353953, 0.012285073, 0.012663188, 0.012761325, 0.013067426, 0.013369566, 0.013427487, 0.01363574, 0.013893597, 0.014025757]}\n",
    "    x = np.arange(380,731,10)\n",
    "    r = interpolate.interp1d(x,vectors[band])\n",
    "    return r(wl)"
   ]
  },
  {
   "cell_type": "code",
   "execution_count": 3,
   "id": "familiar-lobby",
   "metadata": {},
   "outputs": [],
   "source": [
    "ztau = io.imread(\"./ztau.jpg\")\n",
    "castor = io.imread(\"./castor.jpg\")"
   ]
  },
  {
   "cell_type": "code",
   "execution_count": 156,
   "id": "separated-freeze",
   "metadata": {},
   "outputs": [],
   "source": [
    "def rgbplot(pxl_line):\n",
    "    x = np.arange(0,pxl_line.shape[1])\n",
    "    plt.plot(x,pxl_line[0,:,0],\"r-\")\n",
    "    plt.plot(x,pxl_line[0,:,1],\"g-\")\n",
    "    plt.plot(x,pxl_line[0,:,2],\"b-\")\n",
    "    plt.xlabel(\"Pixel index\")\n",
    "    plt.ylabel(\"Color value\")\n",
    "    plt.show()\n",
    "    \n",
    "def intensityplot(pxl_line):\n",
    "    x = np.arange(0,pxl_line.shape[1])\n",
    "    plt.plot(x,np.sum(pxl_line[0],axis=1),\"-\")\n",
    "    plt.xlabel(\"Pixel index\")\n",
    "    plt.ylabel(\"Sum of color value\")\n",
    "    plt.show()\n",
    "    \n",
    "def planck(wavelength,T,amp): #in nm\n",
    "    h = 6.626e-34 # Planck's constant, J*s\n",
    "    c = 299792458 # speed of light, m/s\n",
    "    k = 1.38064852e-23 # Boltzmann constant, J/K\n",
    "    B = amp*((2*h*(c**2))/((wavelength*0.000000001)**5))*(np.exp((h*c)/((wavelength*0.000000001)*k*T))-1)**(-1) # Planck's Law\n",
    "    return B # W/m^2/nm\n",
    "\n",
    "def wien(T):\n",
    "    b = 2.897771955e-3 # Wien's displacement constant, in m*K\n",
    "    λ_max = (b/T)*1e9 # Wien's Law, with λ converted from nm\n",
    "    return λ_max # in K\n",
    "\n",
    "class Spectrum:\n",
    "    def __init__(self,pxls,colorspace=\"rgb\"):\n",
    "        self.axis_calibrated = False\n",
    "        self.flux_calibrated = False\n",
    "        if pxls.shape[0]==1:\n",
    "            self.pxls = pxls\n",
    "        elif pxls.shape[1]==1 and pxls.shape[0]>1:\n",
    "            self.pxls = pxls.T\n",
    "        else:\n",
    "            self.pxls = img_fold(crop_array(pxls))\n",
    "        self.x = np.arange(self.pxls.shape[1])\n",
    "        if colorspace == \"rgb\":\n",
    "            self.rgb = self.pxls\n",
    "            self.hsv = color.rgb2hsv(self.pxls)\n",
    "            self.xyz = color.rgb2xyz(self.pxls)\n",
    "        elif colorspace == \"hsv\":\n",
    "            self.rgb = color.hsv2rgb(self.pxls)\n",
    "            self.hsv = self.pxls\n",
    "            self.xyz = color.hsv2xyz(self.pxls)\n",
    "        self.intensities = np.sum(self.pxls[0],axis=1)\n",
    "        \n",
    "    def calibrate_axis(self,pxl1,wl1,pxl2,wl2):\n",
    "        stepsize = (wl2 - wl1) / (pxl2 - pxl1)\n",
    "        start = wl1 - (stepsize * pxl1)\n",
    "        end = start+stepsize*self.pxls.shape[1]\n",
    "        self.x = np.arange(start,end,stepsize)\n",
    "        self.axis_calibrated = True\n",
    "        \n",
    "    def calibrate_flux(self,pxl_intensity,mag,system=\"AB\"):\n",
    "        ref_flux = 3631*10**(-mag/2.5)\n",
    "        self.intensities *= ref_flux/pxl_intensity\n",
    "        self.flux_calibrated = True\n",
    "        \n",
    "    def plot(self,**kwargs):\n",
    "        plt.plot(self.x,self.intensities)\n",
    "        plt.show()\n",
    "        \n",
    "    def fit_bb(self):\n",
    "        if self.axis_calibrated:\n",
    "            if self.flux_calibrated:\n",
    "                fit_params, cov_mat = optimize.curve_fit(planck, self.x, self.intensities, p0=[10000,1e-25])\n",
    "                uncertainties = np.sqrt(np.diag(cov_mat))\n",
    "            else:\n",
    "                fit_params, cov_mat = optimize.curve_fit(planck, self.x, self.intensities, p0=[10000,1e-15])\n",
    "                uncertainties = np.sqrt(np.diag(cov_mat))\n",
    "            return {\"Teff\":fit_params[0],\"scale\":fit_params[1],\"e_Teff\":uncertainties[0],\"e_scale\":uncertainties[1]}\n",
    "        else:\n",
    "            return None"
   ]
  },
  {
   "cell_type": "code",
   "execution_count": 157,
   "id": "interesting-software",
   "metadata": {},
   "outputs": [
    {
     "data": {
      "text/plain": [
       "{'Teff': 10484.050152094482,\n",
       " 'scale': 9.780295457922962e-23,\n",
       " 'e_Teff': 45.036993655988105,\n",
       " 'e_scale': 1.9883892202311907e-24}"
      ]
     },
     "execution_count": 157,
     "metadata": {},
     "output_type": "execute_result"
    }
   ],
   "source": [
    "test = Spectrum(ztau)\n",
    "test.calibrate_axis(0,70,468,656)\n",
    "test.calibrate_flux(4.25,30)\n",
    "test.fit_bb()"
   ]
  },
  {
   "cell_type": "code",
   "execution_count": 158,
   "id": "answering-retirement",
   "metadata": {},
   "outputs": [
    {
     "data": {
      "image/png": "[encoded data removed]",
      "text/plain": [
       "<Figure size 432x288 with 1 Axes>"
      ]
     },
     "metadata": {
      "needs_background": "light"
     },
     "output_type": "display_data"
    }
   ],
   "source": [
    "plt.plot(test.x,planck(test.x,10484,1e-22))\n",
    "test.plot()"
   ]
  },
  {
   "cell_type": "code",
   "execution_count": 166,
   "id": "alleged-nurse",
   "metadata": {},
   "outputs": [
    {
     "name": "stderr",
     "output_type": "stream",
     "text": [
      "<ipython-input-156-a37d6fc61502>:21: RuntimeWarning: overflow encountered in exp\n",
      "  B = amp*((2*h*(c**2))/((wavelength*0.000000001)**5))*(np.exp((h*c)/((wavelength*0.000000001)*k*T))-1)**(-1) # Planck's Law\n"
     ]
    },
    {
     "data": {
      "text/plain": [
       "{'Teff': 9675.790092233583,\n",
       " 'scale': 4.4475588666691814e-23,\n",
       " 'e_Teff': 60.93200807680198,\n",
       " 'e_scale': 1.3290891906033764e-24}"
      ]
     },
     "execution_count": 166,
     "metadata": {},
     "output_type": "execute_result"
    }
   ],
   "source": [
    "test2 = Spectrum(castor[:,200:1000,:])\n",
    "test2.calibrate_axis(0,1,236,282)\n",
    "test2.calibrate_flux(60,30)\n",
    "test2.fit_bb()"
   ]
  },
  {
   "cell_type": "code",
   "execution_count": 167,
   "id": "interesting-hayes",
   "metadata": {},
   "outputs": [
    {
     "name": "stderr",
     "output_type": "stream",
     "text": [
      "<ipython-input-156-a37d6fc61502>:21: RuntimeWarning: overflow encountered in exp\n",
      "  B = amp*((2*h*(c**2))/((wavelength*0.000000001)**5))*(np.exp((h*c)/((wavelength*0.000000001)*k*T))-1)**(-1) # Planck's Law\n"
     ]
    },
    {
     "data": {
      "image/png": "[encoded data removed]",
      "text/plain": [
       "<Figure size 432x288 with 1 Axes>"
      ]
     },
     "metadata": {
      "needs_background": "light"
     },
     "output_type": "display_data"
    }
   ],
   "source": [
    "plt.plot(test2.x,planck(test2.x,9675,5e-23))\n",
    "test2.plot()"
   ]
  },
  {
   "cell_type": "code",
   "execution_count": null,
   "id": "nutritional-crown",
   "metadata": {},
   "outputs": [],
   "source": []
  }
 ],
 "metadata": {
  "interpreter": {
   "hash": "83bb2f3357a96d121ce2d6d5bcea0480646158165efb9076d9b5c9cab16c0c12"
  },
  "kernelspec": {
   "display_name": "Python 3",
   "language": "python",
   "name": "python3"
  },
  "language_info": {
   "codemirror_mode": {
    "name": "ipython",
    "version": 3
   },
   "file_extension": ".py",
   "mimetype": "text/x-python",
   "name": "python",
   "nbconvert_exporter": "python",
   "pygments_lexer": "ipython3",
   "version": "3.9.1"
  },
  "toc": {
   "base_numbering": 1,
   "nav_menu": {},
   "number_sections": true,
   "sideBar": true,
   "skip_h1_title": false,
   "title_cell": "Table of Contents",
   "title_sidebar": "Contents",
   "toc_cell": false,
   "toc_position": {},
   "toc_section_display": true,
   "toc_window_display": false
  }
 },
 "nbformat": 4,
 "nbformat_minor": 5
}
